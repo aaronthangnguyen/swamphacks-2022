{
 "cells": [
  {
   "cell_type": "code",
   "execution_count": 1,
   "id": "7648f28a",
   "metadata": {},
   "outputs": [],
   "source": [
    "import pandas as pd\n",
    "import requests\n",
    "import numpy as np\n",
    "import json\n",
    "import sqlite3\n",
    "from sqlite3 import Error"
   ]
  },
  {
   "cell_type": "code",
   "execution_count": 2,
   "id": "fcddfe10",
   "metadata": {},
   "outputs": [],
   "source": [
    "id = 91"
   ]
  },
  {
   "cell_type": "code",
   "execution_count": 3,
   "id": "318455eb",
   "metadata": {},
   "outputs": [],
   "source": [
    "r = requests.get('https://lcid.cc/info/{}'.format(str(id)))\n",
    "data = r.json()\n",
    "df = pd.DataFrame.from_dict(data, orient='columns')"
   ]
  },
  {
   "cell_type": "code",
   "execution_count": 4,
   "id": "7b918f36",
   "metadata": {},
   "outputs": [],
   "source": [
    "df = df.drop('acRate', 1)\n",
    "df = df.drop('freqBar', 1)\n",
    "df = df.drop('isFavor', 1)\n",
    "df = df.drop('paidOnly', 1)\n",
    "df = df.drop('status', 1)\n",
    "df = df.drop('hasSolution', 1)\n",
    "df = df.drop('hasVideoSolution', 1)"
   ]
  },
  {
   "cell_type": "code",
   "execution_count": 5,
   "id": "223f30a9",
   "metadata": {},
   "outputs": [],
   "source": [
    "df.rename(columns={'frontendQuestionId': 'id'}, inplace=True)"
   ]
  },
  {
   "cell_type": "code",
   "execution_count": 6,
   "id": "749c1e75",
   "metadata": {},
   "outputs": [],
   "source": [
    "xz = df.join(pd.json_normalize(df[\"topicTags\"].tolist()).add_prefix(\"topicTags\")).drop([\"topicTags\"], axis=1)"
   ]
  },
  {
   "cell_type": "code",
   "execution_count": 7,
   "id": "9bc0edbd",
   "metadata": {},
   "outputs": [
    {
     "data": {
      "text/html": [
       "<div>\n",
       "<style scoped>\n",
       "    .dataframe tbody tr th:only-of-type {\n",
       "        vertical-align: middle;\n",
       "    }\n",
       "\n",
       "    .dataframe tbody tr th {\n",
       "        vertical-align: top;\n",
       "    }\n",
       "\n",
       "    .dataframe thead th {\n",
       "        text-align: right;\n",
       "    }\n",
       "</style>\n",
       "<table border=\"1\" class=\"dataframe\">\n",
       "  <thead>\n",
       "    <tr style=\"text-align: right;\">\n",
       "      <th></th>\n",
       "      <th>difficulty</th>\n",
       "      <th>id</th>\n",
       "      <th>title</th>\n",
       "      <th>titleSlug</th>\n",
       "      <th>topicTagsname</th>\n",
       "      <th>topicTagsid</th>\n",
       "      <th>topicTagsslug</th>\n",
       "    </tr>\n",
       "  </thead>\n",
       "  <tbody>\n",
       "    <tr>\n",
       "      <th>0</th>\n",
       "      <td>Medium</td>\n",
       "      <td>91</td>\n",
       "      <td>Decode Ways</td>\n",
       "      <td>decode-ways</td>\n",
       "      <td>String</td>\n",
       "      <td>VG9waWNUYWdOb2RlOjEw</td>\n",
       "      <td>string</td>\n",
       "    </tr>\n",
       "    <tr>\n",
       "      <th>1</th>\n",
       "      <td>Medium</td>\n",
       "      <td>91</td>\n",
       "      <td>Decode Ways</td>\n",
       "      <td>decode-ways</td>\n",
       "      <td>Dynamic Programming</td>\n",
       "      <td>VG9waWNUYWdOb2RlOjEz</td>\n",
       "      <td>dynamic-programming</td>\n",
       "    </tr>\n",
       "  </tbody>\n",
       "</table>\n",
       "</div>"
      ],
      "text/plain": [
       "  difficulty  id        title    titleSlug        topicTagsname  \\\n",
       "0     Medium  91  Decode Ways  decode-ways               String   \n",
       "1     Medium  91  Decode Ways  decode-ways  Dynamic Programming   \n",
       "\n",
       "            topicTagsid        topicTagsslug  \n",
       "0  VG9waWNUYWdOb2RlOjEw               string  \n",
       "1  VG9waWNUYWdOb2RlOjEz  dynamic-programming  "
      ]
     },
     "execution_count": 7,
     "metadata": {},
     "output_type": "execute_result"
    }
   ],
   "source": [
    "xz.head()"
   ]
  },
  {
   "cell_type": "code",
   "execution_count": 9,
   "id": "71f37ca2",
   "metadata": {},
   "outputs": [],
   "source": [
    "DB_FILE_PATH = 'sampleSQLite.db'"
   ]
  },
  {
   "cell_type": "code",
   "execution_count": 10,
   "id": "50c39f14",
   "metadata": {},
   "outputs": [
    {
     "name": "stdout",
     "output_type": "stream",
     "text": [
      "SQL insert process finished\n"
     ]
    }
   ],
   "source": [
    "def connect_to_db(db_file):\n",
    "    \"\"\"\n",
    "    Connect to an SQlite database, if db file does not exist it will be created\n",
    "    :param db_file: absolute or relative path of db file\n",
    "    :return: sqlite3 connection\n",
    "    \"\"\"\n",
    "    sqlite3_conn = None\n",
    "\n",
    "    try:\n",
    "        sqlite3_conn = sqlite3.connect(db_file)\n",
    "        return sqlite3_conn\n",
    "\n",
    "    except Error as err:\n",
    "        print(err)\n",
    "\n",
    "        if sqlite3_conn is not None:\n",
    "            sqlite3_conn.close()\n",
    "\n",
    "conn = connect_to_db(DB_FILE_PATH)\n",
    "if conn is not None:\n",
    "    c = conn.cursor()\n",
    "    c.execute('CREATE TABLE IF NOT EXISTS ' + 'random' +\n",
    "                  '(difficulty        VARCHAR,'\n",
    "                  'id        VARCHAR,'\n",
    "                  'title        VARCHAR,'\n",
    "                  'titleSlug  VARCHAR,'\n",
    "                  'topicTagsname    VARCHAR,'\n",
    "                  'topicTagsid       VARCHAR,'\n",
    "                  'topicTagsslug VARCHAR)')\n",
    "\n",
    "    xz.to_sql(name=\"random\", con=conn, if_exists='append', index=False)\n",
    "\n",
    "    conn.close()\n",
    "    print('SQL insert process finished')\n",
    "else:\n",
    "    print('Connection to database failed')"
   ]
  },
  {
   "cell_type": "code",
   "execution_count": null,
   "id": "aff9d3cc",
   "metadata": {},
   "outputs": [],
   "source": []
  }
 ],
 "metadata": {
  "kernelspec": {
   "display_name": "Python 3 (ipykernel)",
   "language": "python",
   "name": "python3"
  },
  "language_info": {
   "codemirror_mode": {
    "name": "ipython",
    "version": 3
   },
   "file_extension": ".py",
   "mimetype": "text/x-python",
   "name": "python",
   "nbconvert_exporter": "python",
   "pygments_lexer": "ipython3",
   "version": "3.9.9"
  }
 },
 "nbformat": 4,
 "nbformat_minor": 5
}
